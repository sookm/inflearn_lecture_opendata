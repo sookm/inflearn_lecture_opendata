{
 "cells": [
  {
   "cell_type": "markdown",
   "metadata": {},
   "source": [
    "### 소상공인시장진흥공단 상가업소정보로 스타벅스, 이디야 위치 분석하기\n",
    "\n",
    "* 이디야는 스타벅스 근처에 입점한다는 설이 있습니다. 과연 이디야와 스타벅스의 매장입지는 얼마나 차이가 날까요? 관련 기사를 읽고 구별로 이디야와 스타벅스의 매장을 기사와 유사하게 분석하고 시각화 해보면서 Python, Pandas, Numpy, Seaborn, Matplotlib, folium 을 통해 다양한 방법으로 표현해 봅니다..\n",
    "\n",
    "#### 다루는 내용\n",
    "* 공공데이터를 활용해 텍스트 데이터 정제하고 원하는 정보 찾아내기\n",
    "* 문자열에서 원하는 텍스트 추출하기\n",
    "* 문자열을 활용한 다양한 분석 방법과 위치 정보 사용하기\n",
    "* folium을 통한 위경도 데이터 시각화 이해하기\n",
    "\n",
    "#### 실습\n",
    "* 텍스트 데이터 정제하기 -  대소문자로 섞여있는 상호명을 소문자로 변경하고 상호명 추출하기\n",
    "* 텍스트 데이터에서 원하는 정보 추출하기 - 브랜드명 컬럼을 만들고 구별 매장 수 분석하기\n",
    "* folium을 통해 지도에 분석한 내용을 표현하기 - **CircleMarker**와 choropleth 그리기\n",
    "\n",
    "\n",
    "#### 데이터셋\n",
    "* https://www.data.go.kr/dataset/15012005/fileData.do\n",
    "* 구별로 매장수를 표현하기 위해 GeoJSON 파일 로드\n",
    "    * 파일출처 : [southkorea/seoul-maps: Seoul administrative divisions in ESRI Shapefile, GeoJSON and TopoJSON formats.](https://github.com/southkorea/seoul-maps)\n",
    "\n",
    "\n",
    "#### 관련기사\n",
    "* [[비즈&빅데이터]스타벅스 '쏠림' vs 이디야 '분산'](http://news.bizwatch.co.kr/article/consumer/2018/01/19/0015)"
   ]
  },
  {
   "cell_type": "markdown",
   "metadata": {},
   "source": [
    "### 필요한 라이브러리 불러오기"
   ]
  },
  {
   "cell_type": "code",
   "execution_count": 1,
   "metadata": {},
   "outputs": [],
   "source": [
    "# 데이터 분석을 위해 pandas를, 수치계산을 위해 numpy를, \n",
    "# 시각화를 위해 seaborn을 불러오기.\n",
    "import pandas as pd\n",
    "import numpy as np \n",
    "import seaborn as sns\n",
    "\n",
    "# 구버전의 주피터 노트북에서 그래프가 보이는 설정\n",
    "# %matplotlib inline"
   ]
  },
  {
   "cell_type": "markdown",
   "metadata": {},
   "source": [
    "### 시각화를 위한 한글 폰트 설정하기"
   ]
  },
  {
   "cell_type": "code",
   "execution_count": 2,
   "metadata": {},
   "outputs": [],
   "source": [
    "# 한글폰트 설정\n",
    "\n",
    "import matplotlib.pyplot as plt\n",
    "\n",
    "plt.rc(\"font\", family=\"Malgun Gothic\")\n",
    "plt.rc(\"axes\", unicode_minus=False)"
   ]
  },
  {
   "cell_type": "code",
   "execution_count": 3,
   "metadata": {},
   "outputs": [],
   "source": [
    "# 폰트가 선명하게 보이도록 retina 설정\n",
    "from IPython.display import set_matplotlib_formats\n",
    "\n",
    "set_matplotlib_formats(\"retina\")"
   ]
  },
  {
   "cell_type": "markdown",
   "metadata": {},
   "source": [
    "### 데이터 불러오기\n",
    "* [공공데이터 포털](https://www.data.go.kr/dataset/15012005/fileData.do)"
   ]
  },
  {
   "cell_type": "code",
   "execution_count": 4,
   "metadata": {},
   "outputs": [
    {
     "data": {
      "text/plain": [
       "(573680, 39)"
      ]
     },
     "execution_count": 4,
     "metadata": {},
     "output_type": "execute_result"
    }
   ],
   "source": [
    "# 파일을 불러와 df 라는 변수에 담습니다.\n",
    "# shape 를 통해 불러온 csv 파일의 크기를 확인합니다.\n",
    "\n",
    "# %ls data\n",
    "df = pd.read_csv(\"data/상가업소정보_201912_01.csv\", sep='|')\n",
    "df.shape"
   ]
  },
  {
   "cell_type": "markdown",
   "metadata": {},
   "source": [
    "#### 데이터 미리보기"
   ]
  },
  {
   "cell_type": "code",
   "execution_count": 5,
   "metadata": {},
   "outputs": [
    {
     "data": {
      "text/html": [
       "<div>\n",
       "<style scoped>\n",
       "    .dataframe tbody tr th:only-of-type {\n",
       "        vertical-align: middle;\n",
       "    }\n",
       "\n",
       "    .dataframe tbody tr th {\n",
       "        vertical-align: top;\n",
       "    }\n",
       "\n",
       "    .dataframe thead th {\n",
       "        text-align: right;\n",
       "    }\n",
       "</style>\n",
       "<table border=\"1\" class=\"dataframe\">\n",
       "  <thead>\n",
       "    <tr style=\"text-align: right;\">\n",
       "      <th></th>\n",
       "      <th>상가업소번호</th>\n",
       "      <th>상호명</th>\n",
       "      <th>지점명</th>\n",
       "      <th>상권업종대분류코드</th>\n",
       "      <th>상권업종대분류명</th>\n",
       "      <th>상권업종중분류코드</th>\n",
       "      <th>상권업종중분류명</th>\n",
       "      <th>상권업종소분류코드</th>\n",
       "      <th>상권업종소분류명</th>\n",
       "      <th>표준산업분류코드</th>\n",
       "      <th>...</th>\n",
       "      <th>건물관리번호</th>\n",
       "      <th>건물명</th>\n",
       "      <th>도로명주소</th>\n",
       "      <th>구우편번호</th>\n",
       "      <th>신우편번호</th>\n",
       "      <th>동정보</th>\n",
       "      <th>층정보</th>\n",
       "      <th>호정보</th>\n",
       "      <th>경도</th>\n",
       "      <th>위도</th>\n",
       "    </tr>\n",
       "  </thead>\n",
       "  <tbody>\n",
       "    <tr>\n",
       "      <th>0</th>\n",
       "      <td>19905471</td>\n",
       "      <td>와라와라호프</td>\n",
       "      <td>NaN</td>\n",
       "      <td>Q</td>\n",
       "      <td>음식</td>\n",
       "      <td>Q09</td>\n",
       "      <td>유흥주점</td>\n",
       "      <td>Q09A01</td>\n",
       "      <td>호프/맥주</td>\n",
       "      <td>I56219</td>\n",
       "      <td>...</td>\n",
       "      <td>1168010600106040000014378</td>\n",
       "      <td>대치상가</td>\n",
       "      <td>서울특별시 강남구 남부순환로 2933</td>\n",
       "      <td>135280</td>\n",
       "      <td>6280.0</td>\n",
       "      <td>NaN</td>\n",
       "      <td>1</td>\n",
       "      <td>NaN</td>\n",
       "      <td>127.061026</td>\n",
       "      <td>37.493922</td>\n",
       "    </tr>\n",
       "    <tr>\n",
       "      <th>1</th>\n",
       "      <td>19911397</td>\n",
       "      <td>커피빈코리아선릉로93길점</td>\n",
       "      <td>코리아선릉로93길점</td>\n",
       "      <td>Q</td>\n",
       "      <td>음식</td>\n",
       "      <td>Q12</td>\n",
       "      <td>커피점/카페</td>\n",
       "      <td>Q12A01</td>\n",
       "      <td>커피전문점/카페/다방</td>\n",
       "      <td>I56220</td>\n",
       "      <td>...</td>\n",
       "      <td>1168010100106960042022041</td>\n",
       "      <td>NaN</td>\n",
       "      <td>서울특별시 강남구 선릉로93길 6</td>\n",
       "      <td>135080</td>\n",
       "      <td>6149.0</td>\n",
       "      <td>NaN</td>\n",
       "      <td>1</td>\n",
       "      <td>NaN</td>\n",
       "      <td>127.047883</td>\n",
       "      <td>37.505675</td>\n",
       "    </tr>\n",
       "    <tr>\n",
       "      <th>2</th>\n",
       "      <td>19911801</td>\n",
       "      <td>프로포즈</td>\n",
       "      <td>NaN</td>\n",
       "      <td>Q</td>\n",
       "      <td>음식</td>\n",
       "      <td>Q09</td>\n",
       "      <td>유흥주점</td>\n",
       "      <td>Q09A01</td>\n",
       "      <td>호프/맥주</td>\n",
       "      <td>I56219</td>\n",
       "      <td>...</td>\n",
       "      <td>1154510200101620001017748</td>\n",
       "      <td>NaN</td>\n",
       "      <td>서울특별시 금천구 가산로 34-6</td>\n",
       "      <td>153010</td>\n",
       "      <td>8545.0</td>\n",
       "      <td>NaN</td>\n",
       "      <td>1</td>\n",
       "      <td>NaN</td>\n",
       "      <td>126.899220</td>\n",
       "      <td>37.471711</td>\n",
       "    </tr>\n",
       "    <tr>\n",
       "      <th>3</th>\n",
       "      <td>19912201</td>\n",
       "      <td>싱싱커피&amp;토스트</td>\n",
       "      <td>NaN</td>\n",
       "      <td>Q</td>\n",
       "      <td>음식</td>\n",
       "      <td>Q07</td>\n",
       "      <td>패스트푸드</td>\n",
       "      <td>Q07A10</td>\n",
       "      <td>토스트전문</td>\n",
       "      <td>I56192</td>\n",
       "      <td>...</td>\n",
       "      <td>2653010400105780000002037</td>\n",
       "      <td>산업용품유통상가</td>\n",
       "      <td>부산광역시 사상구 괘감로 37</td>\n",
       "      <td>617726</td>\n",
       "      <td>46977.0</td>\n",
       "      <td>NaN</td>\n",
       "      <td>1</td>\n",
       "      <td>26</td>\n",
       "      <td>128.980455</td>\n",
       "      <td>35.159774</td>\n",
       "    </tr>\n",
       "    <tr>\n",
       "      <th>4</th>\n",
       "      <td>19932756</td>\n",
       "      <td>가락사우나내스낵</td>\n",
       "      <td>NaN</td>\n",
       "      <td>F</td>\n",
       "      <td>생활서비스</td>\n",
       "      <td>F09</td>\n",
       "      <td>대중목욕탕/휴게</td>\n",
       "      <td>F09A02</td>\n",
       "      <td>사우나/증기탕/온천</td>\n",
       "      <td>S96121</td>\n",
       "      <td>...</td>\n",
       "      <td>1171010500102560005010490</td>\n",
       "      <td>NaN</td>\n",
       "      <td>서울특별시 송파구 가락로 71</td>\n",
       "      <td>138846</td>\n",
       "      <td>5690.0</td>\n",
       "      <td>NaN</td>\n",
       "      <td>1</td>\n",
       "      <td>NaN</td>\n",
       "      <td>127.104071</td>\n",
       "      <td>37.500249</td>\n",
       "    </tr>\n",
       "  </tbody>\n",
       "</table>\n",
       "<p>5 rows × 39 columns</p>\n",
       "</div>"
      ],
      "text/plain": [
       "     상가업소번호            상호명         지점명 상권업종대분류코드 상권업종대분류명 상권업종중분류코드  상권업종중분류명  \\\n",
       "0  19905471         와라와라호프         NaN         Q       음식       Q09      유흥주점   \n",
       "1  19911397  커피빈코리아선릉로93길점  코리아선릉로93길점         Q       음식       Q12    커피점/카페   \n",
       "2  19911801           프로포즈         NaN         Q       음식       Q09      유흥주점   \n",
       "3  19912201       싱싱커피&토스트         NaN         Q       음식       Q07     패스트푸드   \n",
       "4  19932756       가락사우나내스낵         NaN         F    생활서비스       F09  대중목욕탕/휴게   \n",
       "\n",
       "  상권업종소분류코드     상권업종소분류명 표준산업분류코드  ...                     건물관리번호       건물명  \\\n",
       "0    Q09A01        호프/맥주   I56219  ...  1168010600106040000014378      대치상가   \n",
       "1    Q12A01  커피전문점/카페/다방   I56220  ...  1168010100106960042022041       NaN   \n",
       "2    Q09A01        호프/맥주   I56219  ...  1154510200101620001017748       NaN   \n",
       "3    Q07A10        토스트전문   I56192  ...  2653010400105780000002037  산업용품유통상가   \n",
       "4    F09A02   사우나/증기탕/온천   S96121  ...  1171010500102560005010490       NaN   \n",
       "\n",
       "                  도로명주소   구우편번호    신우편번호  동정보 층정보  호정보          경도         위도  \n",
       "0  서울특별시 강남구 남부순환로 2933  135280   6280.0  NaN   1  NaN  127.061026  37.493922  \n",
       "1    서울특별시 강남구 선릉로93길 6  135080   6149.0  NaN   1  NaN  127.047883  37.505675  \n",
       "2    서울특별시 금천구 가산로 34-6  153010   8545.0  NaN   1  NaN  126.899220  37.471711  \n",
       "3      부산광역시 사상구 괘감로 37  617726  46977.0  NaN   1   26  128.980455  35.159774  \n",
       "4      서울특별시 송파구 가락로 71  138846   5690.0  NaN   1  NaN  127.104071  37.500249  \n",
       "\n",
       "[5 rows x 39 columns]"
      ]
     },
     "execution_count": 5,
     "metadata": {},
     "output_type": "execute_result"
    }
   ],
   "source": [
    "df.head()"
   ]
  },
  {
   "cell_type": "markdown",
   "metadata": {},
   "source": [
    "#### info 보기"
   ]
  },
  {
   "cell_type": "code",
   "execution_count": 6,
   "metadata": {},
   "outputs": [
    {
     "name": "stdout",
     "output_type": "stream",
     "text": [
      "<class 'pandas.core.frame.DataFrame'>\n",
      "RangeIndex: 573680 entries, 0 to 573679\n",
      "Data columns (total 39 columns):\n",
      " #   Column     Non-Null Count   Dtype  \n",
      "---  ------     --------------   -----  \n",
      " 0   상가업소번호     573680 non-null  int64  \n",
      " 1   상호명        573679 non-null  object \n",
      " 2   지점명        76674 non-null   object \n",
      " 3   상권업종대분류코드  573680 non-null  object \n",
      " 4   상권업종대분류명   573680 non-null  object \n",
      " 5   상권업종중분류코드  573680 non-null  object \n",
      " 6   상권업종중분류명   573680 non-null  object \n",
      " 7   상권업종소분류코드  573680 non-null  object \n",
      " 8   상권업종소분류명   573680 non-null  object \n",
      " 9   표준산업분류코드   539290 non-null  object \n",
      " 10  표준산업분류명    539290 non-null  object \n",
      " 11  시도코드       573680 non-null  int64  \n",
      " 12  시도명        573680 non-null  object \n",
      " 13  시군구코드      573680 non-null  int64  \n",
      " 14  시군구명       573680 non-null  object \n",
      " 15  행정동코드      573680 non-null  int64  \n",
      " 16  행정동명       573680 non-null  object \n",
      " 17  법정동코드      573680 non-null  int64  \n",
      " 18  법정동명       573680 non-null  object \n",
      " 19  지번코드       573680 non-null  int64  \n",
      " 20  대지구분코드     573680 non-null  int64  \n",
      " 21  대지구분명      573680 non-null  object \n",
      " 22  지번본번지      573680 non-null  int64  \n",
      " 23  지번부번지      474924 non-null  float64\n",
      " 24  지번주소       573680 non-null  object \n",
      " 25  도로명코드      573680 non-null  int64  \n",
      " 26  도로명        573680 non-null  object \n",
      " 27  건물본번지      573680 non-null  int64  \n",
      " 28  건물부번지      71988 non-null   float64\n",
      " 29  건물관리번호     573680 non-null  object \n",
      " 30  건물명        265608 non-null  object \n",
      " 31  도로명주소      573680 non-null  object \n",
      " 32  구우편번호      573680 non-null  int64  \n",
      " 33  신우편번호      573671 non-null  float64\n",
      " 34  동정보        50856 non-null   object \n",
      " 35  층정보        347127 non-null  object \n",
      " 36  호정보        85266 non-null   object \n",
      " 37  경도         573680 non-null  float64\n",
      " 38  위도         573680 non-null  float64\n",
      "dtypes: float64(5), int64(11), object(23)\n",
      "memory usage: 170.7+ MB\n"
     ]
    }
   ],
   "source": [
    "# info 를 사용하면 데이터의 전체적인 정보를 볼 수 있습니다.\n",
    "# 데이터의 사이즈, 타입, 메모리 사용량 등을 볼 수 있습니다.\n",
    "\n",
    "df.info()\n",
    "\n",
    "# 23  지번부번지      474924 non-null  float64 등의 항목으로 \n",
    "# 결측치가 많음을 볼 수 있다."
   ]
  },
  {
   "cell_type": "markdown",
   "metadata": {},
   "source": [
    "#### 결측치 보기"
   ]
  },
  {
   "cell_type": "code",
   "execution_count": 7,
   "metadata": {},
   "outputs": [
    {
     "data": {
      "text/plain": [
       "<matplotlib.axes._subplots.AxesSubplot at 0x18fe1680348>"
      ]
     },
     "execution_count": 7,
     "metadata": {},
     "output_type": "execute_result"
    },
    {
     "data": {
      "image/png": "[encoded data removed]",
      "text/plain": [
       "<Figure size 576x648 with 1 Axes>"
      ]
     },
     "metadata": {
      "image/png": {
       "height": 521,
       "width": 557
      },
      "needs_background": "light"
     },
     "output_type": "display_data"
    }
   ],
   "source": [
    "# isnull() 을 사용하면 데이터의 결측치를 볼 수 있습니다.\n",
    "# 결측치는 True로 값이 있다면 False로 표시되는데 True 는 1과 같기 때문에 \n",
    "# True 값을 sum()을 사용해서 더하게 되면 합계를 볼 수 있습니다.\n",
    "\n",
    "df.isnull().sum()\n",
    "# 결측치가 많은 데이터 확인 가능하다. => 제거 \n",
    "df.isnull().sum().plot.barh(figsize=(8,9)) # 시각화로 결측치 확인하기 "
   ]
  },
  {
   "cell_type": "markdown",
   "metadata": {},
   "source": [
    "#### 사용하지 않는 컬럼 제거하기"
   ]
  },
  {
   "cell_type": "code",
   "execution_count": 8,
   "metadata": {},
   "outputs": [
    {
     "data": {
      "text/plain": [
       "(573680, 11)"
      ]
     },
     "execution_count": 8,
     "metadata": {},
     "output_type": "execute_result"
    }
   ],
   "source": [
    "# drop을 하는 방법도 있지만 사용할 컬럼만 따로 모아서 보는 방법도 있습니다.\n",
    "# 여기에서는 사용할 컬럼만 따로 모아서 사용합니다.\n",
    "columns = ['상호명', '상권업종대분류명', '상권업종중분류명', '상권업종소분류명', \n",
    "           '시도명', '시군구명', '행정동명', '법정동명', '도로명주소', \n",
    "           '경도', '위도']\n",
    "\n",
    "df = df[columns].copy()\n",
    "df.shape"
   ]
  },
  {
   "cell_type": "code",
   "execution_count": 9,
   "metadata": {},
   "outputs": [
    {
     "name": "stdout",
     "output_type": "stream",
     "text": [
      "<class 'pandas.core.frame.DataFrame'>\n",
      "RangeIndex: 573680 entries, 0 to 573679\n",
      "Data columns (total 11 columns):\n",
      " #   Column    Non-Null Count   Dtype  \n",
      "---  ------    --------------   -----  \n",
      " 0   상호명       573679 non-null  object \n",
      " 1   상권업종대분류명  573680 non-null  object \n",
      " 2   상권업종중분류명  573680 non-null  object \n",
      " 3   상권업종소분류명  573680 non-null  object \n",
      " 4   시도명       573680 non-null  object \n",
      " 5   시군구명      573680 non-null  object \n",
      " 6   행정동명      573680 non-null  object \n",
      " 7   법정동명      573680 non-null  object \n",
      " 8   도로명주소     573680 non-null  object \n",
      " 9   경도        573680 non-null  float64\n",
      " 10  위도        573680 non-null  float64\n",
      "dtypes: float64(2), object(9)\n",
      "memory usage: 48.1+ MB\n"
     ]
    }
   ],
   "source": [
    "# 제거 후 메모리 사용량 보기 -> memory usage: 48.1+ MB  감소 \n",
    "df.info()"
   ]
  },
  {
   "cell_type": "markdown",
   "metadata": {},
   "source": [
    "### 색인으로 서브셋 가져오기\n",
    "#### 서울만 따로 보기"
   ]
  },
  {
   "cell_type": "code",
   "execution_count": 10,
   "metadata": {},
   "outputs": [
    {
     "data": {
      "text/plain": [
       "(407376, 11)"
      ]
     },
     "execution_count": 10,
     "metadata": {},
     "output_type": "execute_result"
    }
   ],
   "source": [
    "# 시도명이 서울로 시작하는 데이터만 봅니다.\n",
    "# 또, df_seoul 이라는 변수에 결과를 저장합니다.\n",
    "# 새로운 변수에 데이터프레임을 할당할 때 copy()를 사용하는 것을 권장합니다.\n",
    "\n",
    "df_seoul = df[df[\"시도명\"] == \"서울특별시\"].copy()  # 부산 데이터 제거하고 저장 \n",
    "df_seoul.shape"
   ]
  },
  {
   "cell_type": "markdown",
   "metadata": {},
   "source": [
    "#### 일부 텍스트가 들어가는 데이터만 가져오기\n",
    "* 상호명에서 브랜드명을 추출합니다.\n",
    "* 대소문자가 섞여 있을 수도 있기 때문에 대소문자를 변환해 줍니다.\n",
    "* 오타를 방지하기 위해 스타벅스의 영문명은 STARBUCKS, 이디야는 EDIYA 입니다.\n",
    "\n",
    "* https://pandas.pydata.org/docs/user_guide/text.html#testing-for-strings-that-match-or-contain-a-pattern"
   ]
  },
  {
   "cell_type": "code",
   "execution_count": 11,
   "metadata": {},
   "outputs": [],
   "source": [
    "# 문자열의 소문자로 변경하는 메소드를 사용\n",
    "# \"상호명_소문자\" 컬럼 만들기 \n",
    "df_seoul[\"상호명_소문자\"] = df_seoul[\"상호명\"].str.lower()"
   ]
  },
  {
   "cell_type": "code",
   "execution_count": 16,
   "metadata": {},
   "outputs": [
    {
     "data": {
      "text/plain": [
       "1675       이디야커피\n",
       "2957       이디야커피\n",
       "8534       이디야커피\n",
       "13913        이디아\n",
       "14605      이디야커피\n",
       "           ...  \n",
       "557161     이디야커피\n",
       "557163     이디야커피\n",
       "557498     이디야커피\n",
       "565196    이디아스포츠\n",
       "568636     이디야커피\n",
       "Name: 상호명_소문자, Length: 543, dtype: object"
      ]
     },
     "execution_count": 16,
     "metadata": {},
     "output_type": "execute_result"
    }
   ],
   "source": [
    "# ediya 를 \"상호명_소문자\" 컬럼으로 가져옵니다.\n",
    "# '상호명_소문자'컬럼으로 '이디야|ediya' 를 가져와 갯수를 세어봅니다.\n",
    "# loc[행]\n",
    "# loc[행, 열]\n",
    "\n",
    "# df_seoul[df_seoul[\"상호명_소문자\"].str.contains(\"이디야|이디아|ediya\")].shape\n",
    "df_seoul.loc[df_seoul[\"상호명_소문자\"].str.contains(\"이디야|이디아|ediya\"), \"상호명_소문자\"]"
   ]
  },
  {
   "cell_type": "code",
   "execution_count": 18,
   "metadata": {},
   "outputs": [
    {
     "data": {
      "text/plain": [
       "1104                스타벅스\n",
       "2023           스타벅스종로3가점\n",
       "2770                스타벅스\n",
       "14770     스타벅스커피여의도ifc1f\n",
       "14781               스타벅스\n",
       "               ...      \n",
       "563387              스타벅스\n",
       "567090              스타벅스\n",
       "567828              스타벅스\n",
       "570096              스타벅스\n",
       "571052              스타벅스\n",
       "Name: 상호명_소문자, Length: 506, dtype: object"
      ]
     },
     "execution_count": 18,
     "metadata": {},
     "output_type": "execute_result"
    }
   ],
   "source": [
    "# 상호명에서 스타벅스만 가져옵니다.\n",
    "# 상호명은 소문자로 변경해 준 컬럼을 사용합니다.\n",
    "# 스타벅스|starbucks 의 \"상호명_소문자\"로 갯수를 세어봅니다.\n",
    "\n",
    "df_seoul.loc[df_seoul[\"상호명_소문자\"].str.contains(\"스타벅스|starbucks\"), \"상호명_소문자\"]"
   ]
  },
  {
   "cell_type": "code",
   "execution_count": 19,
   "metadata": {},
   "outputs": [
    {
     "data": {
      "text/plain": [
       "(1049, 12)"
      ]
     },
     "execution_count": 19,
     "metadata": {},
     "output_type": "execute_result"
    }
   ],
   "source": [
    "# '상호명_소문자'컬럼으로  '스타벅스|starbucks|이디야|이디아|ediya'를 \n",
    "# 가져와 df_cafe 변수에 담기\n",
    "\n",
    "df_cafe = df_seoul[\n",
    "    df_seoul[\"상호명_소문자\"].str.contains('스타벅스|starbucks|이디야|이디아|ediya')].copy()\n",
    "df_cafe.shape"
   ]
  },
  {
   "cell_type": "code",
   "execution_count": 23,
   "metadata": {},
   "outputs": [
    {
     "data": {
      "text/html": [
       "<div>\n",
       "<style scoped>\n",
       "    .dataframe tbody tr th:only-of-type {\n",
       "        vertical-align: middle;\n",
       "    }\n",
       "\n",
       "    .dataframe tbody tr th {\n",
       "        vertical-align: top;\n",
       "    }\n",
       "\n",
       "    .dataframe thead th {\n",
       "        text-align: right;\n",
       "    }\n",
       "</style>\n",
       "<table border=\"1\" class=\"dataframe\">\n",
       "  <thead>\n",
       "    <tr style=\"text-align: right;\">\n",
       "      <th></th>\n",
       "      <th>상호명_소문자</th>\n",
       "      <th>브랜드명</th>\n",
       "    </tr>\n",
       "  </thead>\n",
       "  <tbody>\n",
       "    <tr>\n",
       "      <th>1104</th>\n",
       "      <td>스타벅스</td>\n",
       "      <td>스타벅스</td>\n",
       "    </tr>\n",
       "    <tr>\n",
       "      <th>1675</th>\n",
       "      <td>이디야커피</td>\n",
       "      <td>이디야</td>\n",
       "    </tr>\n",
       "    <tr>\n",
       "      <th>2023</th>\n",
       "      <td>스타벅스종로3가점</td>\n",
       "      <td>스타벅스</td>\n",
       "    </tr>\n",
       "    <tr>\n",
       "      <th>2770</th>\n",
       "      <td>스타벅스</td>\n",
       "      <td>스타벅스</td>\n",
       "    </tr>\n",
       "    <tr>\n",
       "      <th>2957</th>\n",
       "      <td>이디야커피</td>\n",
       "      <td>이디야</td>\n",
       "    </tr>\n",
       "  </tbody>\n",
       "</table>\n",
       "</div>"
      ],
      "text/plain": [
       "        상호명_소문자  브랜드명\n",
       "1104       스타벅스  스타벅스\n",
       "1675      이디야커피   이디야\n",
       "2023  스타벅스종로3가점  스타벅스\n",
       "2770       스타벅스  스타벅스\n",
       "2957      이디야커피   이디야"
      ]
     },
     "execution_count": 23,
     "metadata": {},
     "output_type": "execute_result"
    }
   ],
   "source": [
    "# ~은 not을 의미합니다. 스타벅스가 아닌 데이터는 이디야로 넣어주어도 되지만\n",
    "# 아래 코드처럼 결측치를 이디야로 채워줘도 괜찮습니다.\n",
    "# df_cafe.loc[~df_cafe['상호명'].str.contains('스타벅스|starbucks'), '브랜드명'] = '이디야'\n",
    "\n",
    "# df_cafe[\"상호명_소문자\"].unique()\n",
    "\n",
    "# 스타벅스만 색인하기 \n",
    "df_cafe.loc[df_cafe['상호명'].str.contains('스타벅스|starbucks'), '브랜드명'] = '스타벅스'\n",
    "df_cafe.loc[~df_cafe['상호명'].str.contains('스타벅스|starbucks'), '브랜드명'] = '이디야'\n",
    "df_cafe[[\"상호명_소문자\",\"브랜드명\"]].head()"
   ]
  },
  {
   "cell_type": "code",
   "execution_count": null,
   "metadata": {},
   "outputs": [],
   "source": [
    "# 스타벅스를 제외한 데이터는 이디야이기 때문에 이디야로 브랜드명을 만듭니다.\n",
    "# df_cafe[\"브랜드명\"].fillna(\"이디야\")\n"
   ]
  },
  {
   "cell_type": "code",
   "execution_count": 24,
   "metadata": {},
   "outputs": [
    {
     "data": {
      "text/html": [
       "<div>\n",
       "<style scoped>\n",
       "    .dataframe tbody tr th:only-of-type {\n",
       "        vertical-align: middle;\n",
       "    }\n",
       "\n",
       "    .dataframe tbody tr th {\n",
       "        vertical-align: top;\n",
       "    }\n",
       "\n",
       "    .dataframe thead th {\n",
       "        text-align: right;\n",
       "    }\n",
       "</style>\n",
       "<table border=\"1\" class=\"dataframe\">\n",
       "  <thead>\n",
       "    <tr style=\"text-align: right;\">\n",
       "      <th></th>\n",
       "      <th>상호명</th>\n",
       "      <th>브랜드명</th>\n",
       "    </tr>\n",
       "  </thead>\n",
       "  <tbody>\n",
       "    <tr>\n",
       "      <th>567090</th>\n",
       "      <td>스타벅스</td>\n",
       "      <td>스타벅스</td>\n",
       "    </tr>\n",
       "    <tr>\n",
       "      <th>567828</th>\n",
       "      <td>스타벅스</td>\n",
       "      <td>스타벅스</td>\n",
       "    </tr>\n",
       "    <tr>\n",
       "      <th>568636</th>\n",
       "      <td>이디야커피</td>\n",
       "      <td>이디야</td>\n",
       "    </tr>\n",
       "    <tr>\n",
       "      <th>570096</th>\n",
       "      <td>스타벅스</td>\n",
       "      <td>스타벅스</td>\n",
       "    </tr>\n",
       "    <tr>\n",
       "      <th>571052</th>\n",
       "      <td>스타벅스</td>\n",
       "      <td>스타벅스</td>\n",
       "    </tr>\n",
       "  </tbody>\n",
       "</table>\n",
       "</div>"
      ],
      "text/plain": [
       "          상호명  브랜드명\n",
       "567090   스타벅스  스타벅스\n",
       "567828   스타벅스  스타벅스\n",
       "568636  이디야커피   이디야\n",
       "570096   스타벅스  스타벅스\n",
       "571052   스타벅스  스타벅스"
      ]
     },
     "execution_count": 24,
     "metadata": {},
     "output_type": "execute_result"
    }
   ],
   "source": [
    "# df_cafe에 담긴 상호명','브랜드명'으로 미리보기를 합니다.\n",
    "\n",
    "df_cafe[[\"상호명\", \"브랜드명\"]].tail()"
   ]
  }
 ],
 "metadata": {
  "kernelspec": {
   "display_name": "Python 3",
   "language": "python",
   "name": "python3"
  },
  "language_info": {
   "codemirror_mode": {
    "name": "ipython",
    "version": 3
   },
   "file_extension": ".py",
   "mimetype": "text/x-python",
   "name": "python",
   "nbconvert_exporter": "python",
   "pygments_lexer": "ipython3",
   "version": "3.7.6"
  },
  "toc": {
   "base_numbering": 1,
   "nav_menu": {},
   "number_sections": true,
   "sideBar": true,
   "skip_h1_title": false,
   "title_cell": "Table of Contents",
   "title_sidebar": "Contents",
   "toc_cell": false,
   "toc_position": {},
   "toc_section_display": true,
   "toc_window_display": false
  },
  "varInspector": {
   "cols": {
    "lenName": 16,
    "lenType": 16,
    "lenVar": 40
   },
   "kernels_config": {
    "python": {
     "delete_cmd_postfix": "",
     "delete_cmd_prefix": "del ",
     "library": "var_list.py",
     "varRefreshCmd": "print(var_dic_list())"
    },
    "r": {
     "delete_cmd_postfix": ") ",
     "delete_cmd_prefix": "rm(",
     "library": "var_list.r",
     "varRefreshCmd": "cat(var_dic_list()) "
    }
   },
   "types_to_exclude": [
    "module",
    "function",
    "builtin_function_or_method",
    "instance",
    "_Feature"
   ],
   "window_display": false
  }
 },
 "nbformat": 4,
 "nbformat_minor": 4
}
