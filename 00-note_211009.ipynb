{
 "cells": [
  {
   "cell_type": "code",
   "execution_count": null,
   "metadata": {},
   "outputs": [],
   "source": [
    "# 주피터 노트북 사용법\n",
    "    * shift + tap 키 : 도움말 보기 \n",
    "    * shift + Enger 키를 누르면 셀이 실행되고 커서가 다음셀로 이동합니다\n",
    "    * Enter 키를 누르면 다시 편집 상태로 돌아옵니다.\n",
    "    * ESC 키를 누르고 \\r\\n\",\n",
    "    * a키를 누르면 위에 셀이 추가됩니다\\r\\n\",\n",
    "    * b키를 누르면 아래에 셀이 추가 됩니다.\\r\\n\",\n",
    "    * dd키를 누르면 셀이 삭제됩니다.\\r\\n\",\n",
    "    * m키를 누르면 문서 셀로 변경됩니다.\\r\\n\",\n",
    "    * y키를 누르면 코드 셀로 변경됩니다.\\r\\n\",\n",
    "    * Edit - undo delete cells\\r\\n\",\n",
    "    * h 다른 키 확인 가능\\r\\n\",\n",
    "  \n",
    "    ## 마크다운(Markdwon)이란?\\r\\n\",\n",
    "    * 코드와 함께 문서화를 할 수 있습니다.\n",
    "    * 문서화를 할 수 있는 `문법`입니다.\n",
    "    ```\n",
    "    여러 줄의 설명을\n",
    "    줄바꿈으로 쓰고자 할 때\n",
    "\n"
   ]
  }
 ],
 "metadata": {
  "language_info": {
   "name": "python"
  },
  "orig_nbformat": 4
 },
 "nbformat": 4,
 "nbformat_minor": 2
}
