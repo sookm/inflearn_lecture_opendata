{
 "cells": [
  {
   "cell_type": "markdown",
   "metadata": {},
   "source": [
    "# 주피터 노트북 사용법\n",
    "    * shift + tap 키 : 도움말 보기 \n",
    "    * shift + Enger 키를 누르면 셀이 실행되고 커서가 다음셀로 이동합니다\n",
    "    * Enter 키를 누르면 다시 편집 상태로 돌아옵니다.\n",
    "    * ESC 키를 누르고 \n",
    "    * a키를 누르면 위에 셀이 추가됩니다\n",
    "    * b키를 누르면 아래에 셀이 추가 됩니다.\n",
    "    * dd키를 누르면 셀이 삭제됩니다.\n",
    "    * m키를 누르면 문서 셀로 변경됩니다.\n",
    "    * y키를 누르면 코드 셀로 변경됩니다.\n",
    "    * Edit - undo delete cells\n",
    "    * h 다른 키 확인 가능\n",
    "  \n",
    "  ## 마크다운(Markdwon)이란?\n",
    "    * 코드와 함께 문서화를 할 수 있습니다.\n",
    "    * 문서화를 할 수 있는 `문법`입니다.\n",
    "    \n",
    "    여러 줄의 설명을\n",
    "    줄바꿈으로 쓰고자 할 때\n",
    "\n"
   ]
  }
 ],
 "metadata": {
  "kernelspec": {
   "display_name": "Python 3",
   "language": "python",
   "name": "python3"
  },
  "language_info": {
   "codemirror_mode": {
    "name": "ipython",
    "version": 3
   },
   "file_extension": ".py",
   "mimetype": "text/x-python",
   "name": "python",
   "nbconvert_exporter": "python",
   "pygments_lexer": "ipython3",
   "version": "3.7.6"
  },
  "toc": {
   "base_numbering": 1,
   "nav_menu": {},
   "number_sections": true,
   "sideBar": true,
   "skip_h1_title": false,
   "title_cell": "Table of Contents",
   "title_sidebar": "Contents",
   "toc_cell": false,
   "toc_position": {},
   "toc_section_display": true,
   "toc_window_display": false
  },
  "varInspector": {
   "cols": {
    "lenName": 16,
    "lenType": 16,
    "lenVar": 40
   },
   "kernels_config": {
    "python": {
     "delete_cmd_postfix": "",
     "delete_cmd_prefix": "del ",
     "library": "var_list.py",
     "varRefreshCmd": "print(var_dic_list())"
    },
    "r": {
     "delete_cmd_postfix": ") ",
     "delete_cmd_prefix": "rm(",
     "library": "var_list.r",
     "varRefreshCmd": "cat(var_dic_list()) "
    }
   },
   "types_to_exclude": [
    "module",
    "function",
    "builtin_function_or_method",
    "instance",
    "_Feature"
   ],
   "window_display": false
  }
 },
 "nbformat": 4,
 "nbformat_minor": 2
}
